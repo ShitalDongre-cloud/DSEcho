{
 "cells": [
  {
   "cell_type": "markdown",
   "metadata": {},
   "source": [
    "<center>\n",
    "    <img src=\"https://cf-courses-data.s3.us.cloud-object-storage.appdomain.cloud/IBMDeveloperSkillsNetwork-DS0105EN-SkillsNetwork/labs/Module2/images/SN_web_lightmode.png\" width=\"300\" alt=\"cognitiveclass.ai logo\">\n",
    "</center>\n"
   ]
  },
  {
   "cell_type": "markdown",
   "metadata": {},
   "source": [
    "#### Add your code below following the instructions given in the course\n"
   ]
  },
  {
   "cell_type": "markdown",
   "metadata": {
    "tags": []
   },
   "source": [
    "# Data Science Tools and Ecosystem\n"
   ]
  },
  {
   "cell_type": "markdown",
   "metadata": {},
   "source": [
    "In this notebook, Data Science Tools and Ecosystem are summarized."
   ]
  },
  {
   "cell_type": "code",
   "execution_count": 14,
   "metadata": {
    "tags": []
   },
   "outputs": [
    {
     "name": "stdout",
     "output_type": "stream",
     "text": [
      "Some of the popular languages that Data Scientists use are:\n",
      "1. Python\n",
      "2. R\n",
      "3. SQL\n"
     ]
    }
   ],
   "source": [
    "print ('Some of the popular languages that Data Scientists use are:')\n",
    "ordered_list = [\n",
    "\"Python\",\n",
    "\"R\",\n",
    "\"SQL\"\n",
    "]\n",
    "\n",
    "# Print each item as part of an ordered list\n",
    "for i, item in enumerate(ordered_list, start=1):\n",
    "    print(f\"{i}. {item}\")\n"
   ]
  },
  {
   "cell_type": "code",
   "execution_count": 15,
   "metadata": {
    "tags": []
   },
   "outputs": [
    {
     "name": "stdout",
     "output_type": "stream",
     "text": [
      "Some of the commonly used libraries used by Data Scientists include:\n",
      "1. NumPy\n",
      "2. Pandas\n",
      "3. PyTorch\n"
     ]
    }
   ],
   "source": [
    "print ('Some of the commonly used libraries used by Data Scientists include:')\n",
    "ordered_list = [\n",
    "\"NumPy\",\n",
    "\"Pandas\",\n",
    "\"PyTorch\"\n",
    "]\n",
    "\n",
    "# Print each item as part of an ordered list\n",
    "for i, item in enumerate(ordered_list, start=1):\n",
    "    print(f\"{i}. {item}\")"
   ]
  },
  {
   "cell_type": "code",
   "execution_count": 16,
   "metadata": {
    "tags": []
   },
   "outputs": [
    {
     "data": {
      "text/markdown": [
       "| Data Science Tools |\n",
       "|--------------------|\n",
       "| Jupyter Notebook   |\n",
       "| RStudio            |\n",
       "| Apache Zeppelin    |"
      ],
      "text/plain": [
       "<IPython.core.display.Markdown object>"
      ]
     },
     "metadata": {},
     "output_type": "display_data"
    }
   ],
   "source": [
    "from IPython.display import Markdown, display\n",
    "\n",
    "# Define the header and rows for the table\n",
    "header = \"| Data Science Tools |\\n|--------------------|\"\n",
    "rows = [\n",
    "    \"| Jupyter Notebook   |\",\n",
    "    \"| RStudio            |\",\n",
    "    \"| Apache Zeppelin    |\"\n",
    "]\n",
    "\n",
    "# Combine the header and rows into a single string\n",
    "table = header + \"\\n\" + \"\\n\".join(rows)\n",
    "\n",
    "# Display the table using Markdown in Jupyter Notebook\n",
    "display(Markdown(table))\n"
   ]
  },
  {
   "cell_type": "markdown",
   "metadata": {},
   "source": [
    "### Below are a few examples of evaluating arithmetic expressions in Python"
   ]
  },
  {
   "cell_type": "code",
   "execution_count": 18,
   "metadata": {
    "tags": []
   },
   "outputs": [
    {
     "data": {
      "text/plain": [
       "17"
      ]
     },
     "execution_count": 18,
     "metadata": {},
     "output_type": "execute_result"
    }
   ],
   "source": [
    "(3*4)+5\n",
    "#This a simple arithmetic expression to mutiply then add integers"
   ]
  },
  {
   "cell_type": "code",
   "execution_count": 19,
   "metadata": {
    "tags": []
   },
   "outputs": [
    {
     "data": {
      "text/plain": [
       "3.3333333333333335"
      ]
     },
     "execution_count": 19,
     "metadata": {},
     "output_type": "execute_result"
    }
   ],
   "source": [
    "#This will convert 200 minutes to hours by diving by 60\n",
    "minutes = 200\n",
    "hours = minutes / 60\n",
    "hours\n"
   ]
  },
  {
   "cell_type": "markdown",
   "metadata": {},
   "source": [
    "**Objectives:**"
   ]
  },
  {
   "cell_type": "code",
   "execution_count": 20,
   "metadata": {
    "tags": []
   },
   "outputs": [
    {
     "data": {
      "text/markdown": [
       "- List popular languages for Data Science\n",
       "- List popular tools for Data Science\n",
       "- List popular APIs, libraries for Data Science\n",
       "- arithmetic expressions"
      ],
      "text/plain": [
       "<IPython.core.display.Markdown object>"
      ]
     },
     "metadata": {},
     "output_type": "display_data"
    }
   ],
   "source": [
    "from IPython.display import Markdown, display\n",
    "\n",
    "# Define the items for the unordered list\n",
    "items = [\n",
    "    \"List popular languages for Data Science\",\n",
    "    \"List popular tools for Data Science\",\n",
    "    \"List popular APIs, libraries for Data Science\",\n",
    "    \"arithmetic expressions\"\n",
    "]\n",
    "\n",
    "# Create the unordered list in Markdown format\n",
    "unordered_list = \"\\n\".join([f\"- {item}\" for item in items])\n",
    "\n",
    "# Display the unordered list using Markdown\n",
    "display(Markdown(unordered_list))\n"
   ]
  },
  {
   "cell_type": "markdown",
   "metadata": {},
   "source": [
    "## Author : \n",
    "## Dr. Shital Dongre"
   ]
  },
  {
   "cell_type": "code",
   "execution_count": null,
   "metadata": {},
   "outputs": [],
   "source": []
  }
 ],
 "metadata": {
  "kernelspec": {
   "display_name": "Python",
   "language": "python",
   "name": "conda-env-python-py"
  },
  "language_info": {
   "codemirror_mode": {
    "name": "ipython",
    "version": 3
   },
   "file_extension": ".py",
   "mimetype": "text/x-python",
   "name": "python",
   "nbconvert_exporter": "python",
   "pygments_lexer": "ipython3",
   "version": "3.7.12"
  }
 },
 "nbformat": 4,
 "nbformat_minor": 4
}
